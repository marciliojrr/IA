{
  "nbformat": 4,
  "nbformat_minor": 0,
  "metadata": {
    "colab": {
      "name": "random_forest_PE.ipynb",
      "provenance": [],
      "collapsed_sections": [],
      "authorship_tag": "ABX9TyPPI4Gdop9csWLjPlgQf6Am",
      "include_colab_link": true
    },
    "kernelspec": {
      "name": "python3",
      "display_name": "Python 3"
    },
    "language_info": {
      "name": "python"
    }
  },
  "cells": [
    {
      "cell_type": "markdown",
      "metadata": {
        "id": "view-in-github",
        "colab_type": "text"
      },
      "source": [
        "<a href=\"https://colab.research.google.com/github/marciliojrr/IA/blob/develop/random_forest_PE.ipynb\" target=\"_parent\"><img src=\"https://colab.research.google.com/assets/colab-badge.svg\" alt=\"Open In Colab\"/></a>"
      ]
    },
    {
      "cell_type": "markdown",
      "source": [
        "# Novetech - Soluções Tecnológicas\n",
        "---\n",
        "## Projeto: Uso de _machine learning_ para detecção da condição de pré-eclâmpsia.\n",
        "\n",
        "Data de criação deste código: 18/08/2022\n",
        "\n",
        "Autor: Marcílio Júnior"
      ],
      "metadata": {
        "id": "vUPZescClnxn"
      }
    },
    {
      "cell_type": "markdown",
      "source": [
        "# Uso do método _Random Forest_ para predição da condição de Pré-Eclâmpsia.\n",
        "\n",
        "### _Este método serve de maneira muito eficiente a tarefa de classificação. Ela utiliza de várias árvores de decisão e no final obtém-se o resultado através da moda ou da média (a depender do uso do método). Classificação utiliza a moda._"
      ],
      "metadata": {
        "id": "HqfoJqOcwTD-"
      }
    },
    {
      "cell_type": "markdown",
      "source": [
        "## Importando bibliotecas\n",
        "### _e realizando configurações para melhor visualização._"
      ],
      "metadata": {
        "id": "r4WjCKZdxQCJ"
      }
    },
    {
      "cell_type": "code",
      "execution_count": null,
      "metadata": {
        "id": "nnx4V6SZwLa1"
      },
      "outputs": [],
      "source": [
        "import numpy as np\n",
        "import pandas as pd\n",
        "import pandas_profiling\n",
        "import matplotlib.pyplot as plt\n",
        "import seaborn as sns\n",
        "import joblib\n",
        "import warnings\n",
        "\n",
        "%matplotlib inline\n",
        "warnings.filterwarnings('ignore')\n",
        "\n",
        "\n",
        "from sklearn.model_selection import train_test_split\n",
        "from sklearn.ensemble import RandomForestClassifier\n",
        "from sklearn.metrics import accuracy_score\n",
        "from sklearn.preprocessing import StandardScaler, MinMaxScaler\n",
        "from six import StringIO\n",
        "from imblearn.over_sampling import SMOTE\n",
        "\n",
        "from matplotlib import rcParams\n",
        "\n",
        "rcParams['figure.figsize'] = 10, 6\n",
        "np.random.seed(42)"
      ]
    },
    {
      "cell_type": "markdown",
      "source": [
        "## Carregando o dataset\n",
        "\n",
        "### _Contexto_\n",
        "Os dados foram coletados de diferentes hospitais, clínicas comunitárias, cuidados de saúde materna através do sistema de monitoramento de riscos baseado em IoT.\n",
        "\n",
        "- Idade: Idade em anos da grávida.\n",
        "- SystolicBP: Valor superior da pressão arterial em mmHg, outro atributo significativo durante a gravidez.\n",
        "- DiastolicBP: Menor valor da pressão arterial no mmHg, outro atributo significativo durante a gravidez.\n",
        "- BS: Os níveis de glicose no sangue são em termos de concentração molar, mmol/L.\n",
        "- BodyTemp: Temperatura corporal.\n",
        "- HeartRate: Uma frequência cardíaca de repouso normal em batidas por minuto.\n",
        "- Nível de Risco: Nível de intensidade de risco previsto durante a gravidez considerando o atributo anterior."
      ],
      "metadata": {
        "id": "EFZtmQK5zDcS"
      }
    },
    {
      "cell_type": "code",
      "source": [
        "data = pd.read_csv('Maternal_Health_Risk_Data_Set.csv')\n",
        "\n",
        "# Visualizando parte do dataset (de forma aleatória)\n",
        "\n",
        "data.sample(5)\n"
      ],
      "metadata": {
        "colab": {
          "base_uri": "https://localhost:8080/",
          "height": 206
        },
        "id": "WgwYoFPJzGqh",
        "outputId": "38c5ef3b-20b5-4cf7-b403-23a8b7f6c0ad"
      },
      "execution_count": null,
      "outputs": [
        {
          "output_type": "execute_result",
          "data": {
            "text/plain": [
              "     Age  SystolicBP  DiastolicBP   BS  BodyTemp  HeartRate  RiskLevel\n",
              "649   32         120           90  7.0     100.0         70   mid risk\n",
              "761   16          90           65  6.9      98.0         76   mid risk\n",
              "545   23         100           85  7.5      98.0         66   low risk\n",
              "367   35         140          100  7.8      98.0         66  high risk\n",
              "361   19         120           75  6.9      98.0         66   mid risk"
            ],
            "text/html": [
              "\n",
              "  <div id=\"df-68637b02-e45e-4eec-861a-99a4f3755915\">\n",
              "    <div class=\"colab-df-container\">\n",
              "      <div>\n",
              "<style scoped>\n",
              "    .dataframe tbody tr th:only-of-type {\n",
              "        vertical-align: middle;\n",
              "    }\n",
              "\n",
              "    .dataframe tbody tr th {\n",
              "        vertical-align: top;\n",
              "    }\n",
              "\n",
              "    .dataframe thead th {\n",
              "        text-align: right;\n",
              "    }\n",
              "</style>\n",
              "<table border=\"1\" class=\"dataframe\">\n",
              "  <thead>\n",
              "    <tr style=\"text-align: right;\">\n",
              "      <th></th>\n",
              "      <th>Age</th>\n",
              "      <th>SystolicBP</th>\n",
              "      <th>DiastolicBP</th>\n",
              "      <th>BS</th>\n",
              "      <th>BodyTemp</th>\n",
              "      <th>HeartRate</th>\n",
              "      <th>RiskLevel</th>\n",
              "    </tr>\n",
              "  </thead>\n",
              "  <tbody>\n",
              "    <tr>\n",
              "      <th>649</th>\n",
              "      <td>32</td>\n",
              "      <td>120</td>\n",
              "      <td>90</td>\n",
              "      <td>7.0</td>\n",
              "      <td>100.0</td>\n",
              "      <td>70</td>\n",
              "      <td>mid risk</td>\n",
              "    </tr>\n",
              "    <tr>\n",
              "      <th>761</th>\n",
              "      <td>16</td>\n",
              "      <td>90</td>\n",
              "      <td>65</td>\n",
              "      <td>6.9</td>\n",
              "      <td>98.0</td>\n",
              "      <td>76</td>\n",
              "      <td>mid risk</td>\n",
              "    </tr>\n",
              "    <tr>\n",
              "      <th>545</th>\n",
              "      <td>23</td>\n",
              "      <td>100</td>\n",
              "      <td>85</td>\n",
              "      <td>7.5</td>\n",
              "      <td>98.0</td>\n",
              "      <td>66</td>\n",
              "      <td>low risk</td>\n",
              "    </tr>\n",
              "    <tr>\n",
              "      <th>367</th>\n",
              "      <td>35</td>\n",
              "      <td>140</td>\n",
              "      <td>100</td>\n",
              "      <td>7.8</td>\n",
              "      <td>98.0</td>\n",
              "      <td>66</td>\n",
              "      <td>high risk</td>\n",
              "    </tr>\n",
              "    <tr>\n",
              "      <th>361</th>\n",
              "      <td>19</td>\n",
              "      <td>120</td>\n",
              "      <td>75</td>\n",
              "      <td>6.9</td>\n",
              "      <td>98.0</td>\n",
              "      <td>66</td>\n",
              "      <td>mid risk</td>\n",
              "    </tr>\n",
              "  </tbody>\n",
              "</table>\n",
              "</div>\n",
              "      <button class=\"colab-df-convert\" onclick=\"convertToInteractive('df-68637b02-e45e-4eec-861a-99a4f3755915')\"\n",
              "              title=\"Convert this dataframe to an interactive table.\"\n",
              "              style=\"display:none;\">\n",
              "        \n",
              "  <svg xmlns=\"http://www.w3.org/2000/svg\" height=\"24px\"viewBox=\"0 0 24 24\"\n",
              "       width=\"24px\">\n",
              "    <path d=\"M0 0h24v24H0V0z\" fill=\"none\"/>\n",
              "    <path d=\"M18.56 5.44l.94 2.06.94-2.06 2.06-.94-2.06-.94-.94-2.06-.94 2.06-2.06.94zm-11 1L8.5 8.5l.94-2.06 2.06-.94-2.06-.94L8.5 2.5l-.94 2.06-2.06.94zm10 10l.94 2.06.94-2.06 2.06-.94-2.06-.94-.94-2.06-.94 2.06-2.06.94z\"/><path d=\"M17.41 7.96l-1.37-1.37c-.4-.4-.92-.59-1.43-.59-.52 0-1.04.2-1.43.59L10.3 9.45l-7.72 7.72c-.78.78-.78 2.05 0 2.83L4 21.41c.39.39.9.59 1.41.59.51 0 1.02-.2 1.41-.59l7.78-7.78 2.81-2.81c.8-.78.8-2.07 0-2.86zM5.41 20L4 18.59l7.72-7.72 1.47 1.35L5.41 20z\"/>\n",
              "  </svg>\n",
              "      </button>\n",
              "      \n",
              "  <style>\n",
              "    .colab-df-container {\n",
              "      display:flex;\n",
              "      flex-wrap:wrap;\n",
              "      gap: 12px;\n",
              "    }\n",
              "\n",
              "    .colab-df-convert {\n",
              "      background-color: #E8F0FE;\n",
              "      border: none;\n",
              "      border-radius: 50%;\n",
              "      cursor: pointer;\n",
              "      display: none;\n",
              "      fill: #1967D2;\n",
              "      height: 32px;\n",
              "      padding: 0 0 0 0;\n",
              "      width: 32px;\n",
              "    }\n",
              "\n",
              "    .colab-df-convert:hover {\n",
              "      background-color: #E2EBFA;\n",
              "      box-shadow: 0px 1px 2px rgba(60, 64, 67, 0.3), 0px 1px 3px 1px rgba(60, 64, 67, 0.15);\n",
              "      fill: #174EA6;\n",
              "    }\n",
              "\n",
              "    [theme=dark] .colab-df-convert {\n",
              "      background-color: #3B4455;\n",
              "      fill: #D2E3FC;\n",
              "    }\n",
              "\n",
              "    [theme=dark] .colab-df-convert:hover {\n",
              "      background-color: #434B5C;\n",
              "      box-shadow: 0px 1px 3px 1px rgba(0, 0, 0, 0.15);\n",
              "      filter: drop-shadow(0px 1px 2px rgba(0, 0, 0, 0.3));\n",
              "      fill: #FFFFFF;\n",
              "    }\n",
              "  </style>\n",
              "\n",
              "      <script>\n",
              "        const buttonEl =\n",
              "          document.querySelector('#df-68637b02-e45e-4eec-861a-99a4f3755915 button.colab-df-convert');\n",
              "        buttonEl.style.display =\n",
              "          google.colab.kernel.accessAllowed ? 'block' : 'none';\n",
              "\n",
              "        async function convertToInteractive(key) {\n",
              "          const element = document.querySelector('#df-68637b02-e45e-4eec-861a-99a4f3755915');\n",
              "          const dataTable =\n",
              "            await google.colab.kernel.invokeFunction('convertToInteractive',\n",
              "                                                     [key], {});\n",
              "          if (!dataTable) return;\n",
              "\n",
              "          const docLinkHtml = 'Like what you see? Visit the ' +\n",
              "            '<a target=\"_blank\" href=https://colab.research.google.com/notebooks/data_table.ipynb>data table notebook</a>'\n",
              "            + ' to learn more about interactive tables.';\n",
              "          element.innerHTML = '';\n",
              "          dataTable['output_type'] = 'display_data';\n",
              "          await google.colab.output.renderOutput(dataTable, element);\n",
              "          const docLink = document.createElement('div');\n",
              "          docLink.innerHTML = docLinkHtml;\n",
              "          element.appendChild(docLink);\n",
              "        }\n",
              "      </script>\n",
              "    </div>\n",
              "  </div>\n",
              "  "
            ]
          },
          "metadata": {},
          "execution_count": 2
        }
      ]
    },
    {
      "cell_type": "markdown",
      "source": [
        "## Realizando alguns ajustes no dataset\n",
        "### _Para um melhor entendimento, será realizado alteração nos nomes da colunas. Algumas também serão excluídas, pois não contribuem para o diagnóstico atualmente. Determinados valores de algumas colunas também serão convertivos para outras unidades de medida, visando deixar os dados de acordo com o padrão mais adequado para o caso. Também converteremos para inteiro, a coluna que contém as classes de saída._"
      ],
      "metadata": {
        "id": "-Iet76EJ2L7I"
      }
    },
    {
      "cell_type": "code",
      "source": [
        "data.drop(['BodyTemp', 'HeartRate', 'RiskLevel'], axis = 1, inplace=True)\n",
        "\n",
        "# VALORES DE REFERÊNCIA DE GLICEMIA\n",
        "# - Glicemia de jejum normal: inferior a 99 mg/dL;\n",
        "# - Glicemia de jejum alterada: entre 100 mg/dL e 125 mg/dL;\n",
        "# - Diabetes: igual ou superior a 126 mg/dL;\n",
        "# - Glicemia de jejum baixa ou hipoglicemia: igual ou inferior a 70 mg/dL.\n",
        "data['BS'] = data['BS'] * 18.026\n",
        "\n",
        "data = data.rename({\n",
        "                'Age': 'idade',\n",
        "                'SystolicBP': 'pas(mmHg)',\n",
        "                'DiastolicBP': 'pad(mmHg)',\n",
        "                'BS': 'glicose(mg/dL)'\n",
        "                }, axis = 1)\n",
        "\n",
        "# Visualizando o dataset atual\n",
        "data.sample(5)\n"
      ],
      "metadata": {
        "colab": {
          "base_uri": "https://localhost:8080/",
          "height": 206
        },
        "id": "rUjsBkCc3ykB",
        "outputId": "58856976-a9eb-40ff-bbb8-740d2c17c10e"
      },
      "execution_count": null,
      "outputs": [
        {
          "output_type": "execute_result",
          "data": {
            "text/plain": [
              "     idade  pas(mmHg)  pad(mmHg)  glicose(mg/dL)\n",
              "463     15         76         49        122.5768\n",
              "202     23         90         60        135.1950\n",
              "800     32        120         80        122.5768\n",
              "403     19        120         85        140.6028\n",
              "431     35        100         60        270.3900"
            ],
            "text/html": [
              "\n",
              "  <div id=\"df-6ce41cb4-5e58-447f-8072-151c667877b1\">\n",
              "    <div class=\"colab-df-container\">\n",
              "      <div>\n",
              "<style scoped>\n",
              "    .dataframe tbody tr th:only-of-type {\n",
              "        vertical-align: middle;\n",
              "    }\n",
              "\n",
              "    .dataframe tbody tr th {\n",
              "        vertical-align: top;\n",
              "    }\n",
              "\n",
              "    .dataframe thead th {\n",
              "        text-align: right;\n",
              "    }\n",
              "</style>\n",
              "<table border=\"1\" class=\"dataframe\">\n",
              "  <thead>\n",
              "    <tr style=\"text-align: right;\">\n",
              "      <th></th>\n",
              "      <th>idade</th>\n",
              "      <th>pas(mmHg)</th>\n",
              "      <th>pad(mmHg)</th>\n",
              "      <th>glicose(mg/dL)</th>\n",
              "    </tr>\n",
              "  </thead>\n",
              "  <tbody>\n",
              "    <tr>\n",
              "      <th>463</th>\n",
              "      <td>15</td>\n",
              "      <td>76</td>\n",
              "      <td>49</td>\n",
              "      <td>122.5768</td>\n",
              "    </tr>\n",
              "    <tr>\n",
              "      <th>202</th>\n",
              "      <td>23</td>\n",
              "      <td>90</td>\n",
              "      <td>60</td>\n",
              "      <td>135.1950</td>\n",
              "    </tr>\n",
              "    <tr>\n",
              "      <th>800</th>\n",
              "      <td>32</td>\n",
              "      <td>120</td>\n",
              "      <td>80</td>\n",
              "      <td>122.5768</td>\n",
              "    </tr>\n",
              "    <tr>\n",
              "      <th>403</th>\n",
              "      <td>19</td>\n",
              "      <td>120</td>\n",
              "      <td>85</td>\n",
              "      <td>140.6028</td>\n",
              "    </tr>\n",
              "    <tr>\n",
              "      <th>431</th>\n",
              "      <td>35</td>\n",
              "      <td>100</td>\n",
              "      <td>60</td>\n",
              "      <td>270.3900</td>\n",
              "    </tr>\n",
              "  </tbody>\n",
              "</table>\n",
              "</div>\n",
              "      <button class=\"colab-df-convert\" onclick=\"convertToInteractive('df-6ce41cb4-5e58-447f-8072-151c667877b1')\"\n",
              "              title=\"Convert this dataframe to an interactive table.\"\n",
              "              style=\"display:none;\">\n",
              "        \n",
              "  <svg xmlns=\"http://www.w3.org/2000/svg\" height=\"24px\"viewBox=\"0 0 24 24\"\n",
              "       width=\"24px\">\n",
              "    <path d=\"M0 0h24v24H0V0z\" fill=\"none\"/>\n",
              "    <path d=\"M18.56 5.44l.94 2.06.94-2.06 2.06-.94-2.06-.94-.94-2.06-.94 2.06-2.06.94zm-11 1L8.5 8.5l.94-2.06 2.06-.94-2.06-.94L8.5 2.5l-.94 2.06-2.06.94zm10 10l.94 2.06.94-2.06 2.06-.94-2.06-.94-.94-2.06-.94 2.06-2.06.94z\"/><path d=\"M17.41 7.96l-1.37-1.37c-.4-.4-.92-.59-1.43-.59-.52 0-1.04.2-1.43.59L10.3 9.45l-7.72 7.72c-.78.78-.78 2.05 0 2.83L4 21.41c.39.39.9.59 1.41.59.51 0 1.02-.2 1.41-.59l7.78-7.78 2.81-2.81c.8-.78.8-2.07 0-2.86zM5.41 20L4 18.59l7.72-7.72 1.47 1.35L5.41 20z\"/>\n",
              "  </svg>\n",
              "      </button>\n",
              "      \n",
              "  <style>\n",
              "    .colab-df-container {\n",
              "      display:flex;\n",
              "      flex-wrap:wrap;\n",
              "      gap: 12px;\n",
              "    }\n",
              "\n",
              "    .colab-df-convert {\n",
              "      background-color: #E8F0FE;\n",
              "      border: none;\n",
              "      border-radius: 50%;\n",
              "      cursor: pointer;\n",
              "      display: none;\n",
              "      fill: #1967D2;\n",
              "      height: 32px;\n",
              "      padding: 0 0 0 0;\n",
              "      width: 32px;\n",
              "    }\n",
              "\n",
              "    .colab-df-convert:hover {\n",
              "      background-color: #E2EBFA;\n",
              "      box-shadow: 0px 1px 2px rgba(60, 64, 67, 0.3), 0px 1px 3px 1px rgba(60, 64, 67, 0.15);\n",
              "      fill: #174EA6;\n",
              "    }\n",
              "\n",
              "    [theme=dark] .colab-df-convert {\n",
              "      background-color: #3B4455;\n",
              "      fill: #D2E3FC;\n",
              "    }\n",
              "\n",
              "    [theme=dark] .colab-df-convert:hover {\n",
              "      background-color: #434B5C;\n",
              "      box-shadow: 0px 1px 3px 1px rgba(0, 0, 0, 0.15);\n",
              "      filter: drop-shadow(0px 1px 2px rgba(0, 0, 0, 0.3));\n",
              "      fill: #FFFFFF;\n",
              "    }\n",
              "  </style>\n",
              "\n",
              "      <script>\n",
              "        const buttonEl =\n",
              "          document.querySelector('#df-6ce41cb4-5e58-447f-8072-151c667877b1 button.colab-df-convert');\n",
              "        buttonEl.style.display =\n",
              "          google.colab.kernel.accessAllowed ? 'block' : 'none';\n",
              "\n",
              "        async function convertToInteractive(key) {\n",
              "          const element = document.querySelector('#df-6ce41cb4-5e58-447f-8072-151c667877b1');\n",
              "          const dataTable =\n",
              "            await google.colab.kernel.invokeFunction('convertToInteractive',\n",
              "                                                     [key], {});\n",
              "          if (!dataTable) return;\n",
              "\n",
              "          const docLinkHtml = 'Like what you see? Visit the ' +\n",
              "            '<a target=\"_blank\" href=https://colab.research.google.com/notebooks/data_table.ipynb>data table notebook</a>'\n",
              "            + ' to learn more about interactive tables.';\n",
              "          element.innerHTML = '';\n",
              "          dataTable['output_type'] = 'display_data';\n",
              "          await google.colab.output.renderOutput(dataTable, element);\n",
              "          const docLink = document.createElement('div');\n",
              "          docLink.innerHTML = docLinkHtml;\n",
              "          element.appendChild(docLink);\n",
              "        }\n",
              "      </script>\n",
              "    </div>\n",
              "  </div>\n",
              "  "
            ]
          },
          "metadata": {},
          "execution_count": 3
        }
      ]
    },
    {
      "cell_type": "code",
      "source": [
        "# \"Setando diagnóstico de pré-eclampsia\" baseado nas informações de pressão e diabetes \n",
        "\n",
        "def cat_risco(row):  \n",
        "    if row['pas(mmHg)'] >= 140 and row['pad(mmHg)'] >= 90 and row['glicose(mg/dL)'] > 126.0:\n",
        "        return 1\n",
        "    else:\n",
        "        return 0\n",
        "\n",
        "data['risco'] = data.apply(lambda row: cat_risco(row), axis=1)"
      ],
      "metadata": {
        "id": "CkFy5F39TedL"
      },
      "execution_count": null,
      "outputs": []
    },
    {
      "cell_type": "code",
      "source": [
        "data.head(10)"
      ],
      "metadata": {
        "colab": {
          "base_uri": "https://localhost:8080/",
          "height": 363
        },
        "id": "e2XGrLzrX8UL",
        "outputId": "af88fdab-9112-4280-8778-6da1dcb774a7"
      },
      "execution_count": null,
      "outputs": [
        {
          "output_type": "execute_result",
          "data": {
            "text/plain": [
              "   idade  pas(mmHg)  pad(mmHg)  glicose(mg/dL)  risco\n",
              "0     25        130         80       270.39000      0\n",
              "1     35        140         90       234.33800      1\n",
              "2     29         90         70       144.20800      0\n",
              "3     30        140         85       126.18200      0\n",
              "4     35        120         60       109.95860      0\n",
              "5     23        140         80       126.36226      0\n",
              "6     23        130         70       126.36226      0\n",
              "7     35         85         60       198.28600      0\n",
              "8     32        120         90       124.37940      0\n",
              "9     42        130         80       324.46800      0"
            ],
            "text/html": [
              "\n",
              "  <div id=\"df-c57eea0b-984c-4acd-9a30-9cec76a4a4e9\">\n",
              "    <div class=\"colab-df-container\">\n",
              "      <div>\n",
              "<style scoped>\n",
              "    .dataframe tbody tr th:only-of-type {\n",
              "        vertical-align: middle;\n",
              "    }\n",
              "\n",
              "    .dataframe tbody tr th {\n",
              "        vertical-align: top;\n",
              "    }\n",
              "\n",
              "    .dataframe thead th {\n",
              "        text-align: right;\n",
              "    }\n",
              "</style>\n",
              "<table border=\"1\" class=\"dataframe\">\n",
              "  <thead>\n",
              "    <tr style=\"text-align: right;\">\n",
              "      <th></th>\n",
              "      <th>idade</th>\n",
              "      <th>pas(mmHg)</th>\n",
              "      <th>pad(mmHg)</th>\n",
              "      <th>glicose(mg/dL)</th>\n",
              "      <th>risco</th>\n",
              "    </tr>\n",
              "  </thead>\n",
              "  <tbody>\n",
              "    <tr>\n",
              "      <th>0</th>\n",
              "      <td>25</td>\n",
              "      <td>130</td>\n",
              "      <td>80</td>\n",
              "      <td>270.39000</td>\n",
              "      <td>0</td>\n",
              "    </tr>\n",
              "    <tr>\n",
              "      <th>1</th>\n",
              "      <td>35</td>\n",
              "      <td>140</td>\n",
              "      <td>90</td>\n",
              "      <td>234.33800</td>\n",
              "      <td>1</td>\n",
              "    </tr>\n",
              "    <tr>\n",
              "      <th>2</th>\n",
              "      <td>29</td>\n",
              "      <td>90</td>\n",
              "      <td>70</td>\n",
              "      <td>144.20800</td>\n",
              "      <td>0</td>\n",
              "    </tr>\n",
              "    <tr>\n",
              "      <th>3</th>\n",
              "      <td>30</td>\n",
              "      <td>140</td>\n",
              "      <td>85</td>\n",
              "      <td>126.18200</td>\n",
              "      <td>0</td>\n",
              "    </tr>\n",
              "    <tr>\n",
              "      <th>4</th>\n",
              "      <td>35</td>\n",
              "      <td>120</td>\n",
              "      <td>60</td>\n",
              "      <td>109.95860</td>\n",
              "      <td>0</td>\n",
              "    </tr>\n",
              "    <tr>\n",
              "      <th>5</th>\n",
              "      <td>23</td>\n",
              "      <td>140</td>\n",
              "      <td>80</td>\n",
              "      <td>126.36226</td>\n",
              "      <td>0</td>\n",
              "    </tr>\n",
              "    <tr>\n",
              "      <th>6</th>\n",
              "      <td>23</td>\n",
              "      <td>130</td>\n",
              "      <td>70</td>\n",
              "      <td>126.36226</td>\n",
              "      <td>0</td>\n",
              "    </tr>\n",
              "    <tr>\n",
              "      <th>7</th>\n",
              "      <td>35</td>\n",
              "      <td>85</td>\n",
              "      <td>60</td>\n",
              "      <td>198.28600</td>\n",
              "      <td>0</td>\n",
              "    </tr>\n",
              "    <tr>\n",
              "      <th>8</th>\n",
              "      <td>32</td>\n",
              "      <td>120</td>\n",
              "      <td>90</td>\n",
              "      <td>124.37940</td>\n",
              "      <td>0</td>\n",
              "    </tr>\n",
              "    <tr>\n",
              "      <th>9</th>\n",
              "      <td>42</td>\n",
              "      <td>130</td>\n",
              "      <td>80</td>\n",
              "      <td>324.46800</td>\n",
              "      <td>0</td>\n",
              "    </tr>\n",
              "  </tbody>\n",
              "</table>\n",
              "</div>\n",
              "      <button class=\"colab-df-convert\" onclick=\"convertToInteractive('df-c57eea0b-984c-4acd-9a30-9cec76a4a4e9')\"\n",
              "              title=\"Convert this dataframe to an interactive table.\"\n",
              "              style=\"display:none;\">\n",
              "        \n",
              "  <svg xmlns=\"http://www.w3.org/2000/svg\" height=\"24px\"viewBox=\"0 0 24 24\"\n",
              "       width=\"24px\">\n",
              "    <path d=\"M0 0h24v24H0V0z\" fill=\"none\"/>\n",
              "    <path d=\"M18.56 5.44l.94 2.06.94-2.06 2.06-.94-2.06-.94-.94-2.06-.94 2.06-2.06.94zm-11 1L8.5 8.5l.94-2.06 2.06-.94-2.06-.94L8.5 2.5l-.94 2.06-2.06.94zm10 10l.94 2.06.94-2.06 2.06-.94-2.06-.94-.94-2.06-.94 2.06-2.06.94z\"/><path d=\"M17.41 7.96l-1.37-1.37c-.4-.4-.92-.59-1.43-.59-.52 0-1.04.2-1.43.59L10.3 9.45l-7.72 7.72c-.78.78-.78 2.05 0 2.83L4 21.41c.39.39.9.59 1.41.59.51 0 1.02-.2 1.41-.59l7.78-7.78 2.81-2.81c.8-.78.8-2.07 0-2.86zM5.41 20L4 18.59l7.72-7.72 1.47 1.35L5.41 20z\"/>\n",
              "  </svg>\n",
              "      </button>\n",
              "      \n",
              "  <style>\n",
              "    .colab-df-container {\n",
              "      display:flex;\n",
              "      flex-wrap:wrap;\n",
              "      gap: 12px;\n",
              "    }\n",
              "\n",
              "    .colab-df-convert {\n",
              "      background-color: #E8F0FE;\n",
              "      border: none;\n",
              "      border-radius: 50%;\n",
              "      cursor: pointer;\n",
              "      display: none;\n",
              "      fill: #1967D2;\n",
              "      height: 32px;\n",
              "      padding: 0 0 0 0;\n",
              "      width: 32px;\n",
              "    }\n",
              "\n",
              "    .colab-df-convert:hover {\n",
              "      background-color: #E2EBFA;\n",
              "      box-shadow: 0px 1px 2px rgba(60, 64, 67, 0.3), 0px 1px 3px 1px rgba(60, 64, 67, 0.15);\n",
              "      fill: #174EA6;\n",
              "    }\n",
              "\n",
              "    [theme=dark] .colab-df-convert {\n",
              "      background-color: #3B4455;\n",
              "      fill: #D2E3FC;\n",
              "    }\n",
              "\n",
              "    [theme=dark] .colab-df-convert:hover {\n",
              "      background-color: #434B5C;\n",
              "      box-shadow: 0px 1px 3px 1px rgba(0, 0, 0, 0.15);\n",
              "      filter: drop-shadow(0px 1px 2px rgba(0, 0, 0, 0.3));\n",
              "      fill: #FFFFFF;\n",
              "    }\n",
              "  </style>\n",
              "\n",
              "      <script>\n",
              "        const buttonEl =\n",
              "          document.querySelector('#df-c57eea0b-984c-4acd-9a30-9cec76a4a4e9 button.colab-df-convert');\n",
              "        buttonEl.style.display =\n",
              "          google.colab.kernel.accessAllowed ? 'block' : 'none';\n",
              "\n",
              "        async function convertToInteractive(key) {\n",
              "          const element = document.querySelector('#df-c57eea0b-984c-4acd-9a30-9cec76a4a4e9');\n",
              "          const dataTable =\n",
              "            await google.colab.kernel.invokeFunction('convertToInteractive',\n",
              "                                                     [key], {});\n",
              "          if (!dataTable) return;\n",
              "\n",
              "          const docLinkHtml = 'Like what you see? Visit the ' +\n",
              "            '<a target=\"_blank\" href=https://colab.research.google.com/notebooks/data_table.ipynb>data table notebook</a>'\n",
              "            + ' to learn more about interactive tables.';\n",
              "          element.innerHTML = '';\n",
              "          dataTable['output_type'] = 'display_data';\n",
              "          await google.colab.output.renderOutput(dataTable, element);\n",
              "          const docLink = document.createElement('div');\n",
              "          docLink.innerHTML = docLinkHtml;\n",
              "          element.appendChild(docLink);\n",
              "        }\n",
              "      </script>\n",
              "    </div>\n",
              "  </div>\n",
              "  "
            ]
          },
          "metadata": {},
          "execution_count": 5
        }
      ]
    },
    {
      "cell_type": "code",
      "source": [
        "# Checando se o dataset está desbalanceado\n",
        "disease_counts = data['risco'].value_counts()\n",
        "temp_df = pd.DataFrame({\n",
        "    \"Risco\": disease_counts.index,\n",
        "    \"Qtd. Instâncias\": disease_counts.values\n",
        "})\n",
        "\n",
        "print(data['risco'].value_counts())\n",
        "sns.barplot(x = 'Risco', y = 'Qtd. Instâncias', data = temp_df)\n",
        "plt.xticks(rotation = 90)\n",
        "plt.show()"
      ],
      "metadata": {
        "colab": {
          "base_uri": "https://localhost:8080/",
          "height": 436
        },
        "id": "RTGUCVUR4Hyg",
        "outputId": "67f2ae3b-7f3f-4d45-87be-e948c28f74ab"
      },
      "execution_count": null,
      "outputs": [
        {
          "output_type": "stream",
          "name": "stdout",
          "text": [
            "0    826\n",
            "1     86\n",
            "Name: risco, dtype: int64\n"
          ]
        },
        {
          "output_type": "display_data",
          "data": {
            "text/plain": [
              "<Figure size 720x432 with 1 Axes>"
            ],
            "image/png": "[encoded data removed]"
          },
          "metadata": {
            "needs_background": "light"
          }
        }
      ]
    },
    {
      "cell_type": "markdown",
      "source": [
        "## Dividindo os dados em variáveis de entrada e resultado"
      ],
      "metadata": {
        "id": "9MjzOS-k59G2"
      }
    },
    {
      "cell_type": "code",
      "source": [
        "X = data.drop('risco', axis = 1)\n",
        "y = data['risco']"
      ],
      "metadata": {
        "id": "uUG8EJns6Liv"
      },
      "execution_count": null,
      "outputs": []
    },
    {
      "cell_type": "markdown",
      "source": [
        "## Continuando no pré-processamento\n",
        "### _O pré-processamento é uma das etapas mais importantes do machine learning. Agora será realizado uma padronização nos valores das colunas. Variáveis ​​que estão em diferentes escalas não contribuem igualmente para o ajuste do modelo e função aprendida do modelo e podem acabar criando um viés._"
      ],
      "metadata": {
        "id": "8nr-r3o05Y5I"
      }
    },
    {
      "cell_type": "code",
      "source": [
        "scaler = StandardScaler()\n",
        "X_scaled = scaler.fit_transform(X)"
      ],
      "metadata": {
        "id": "kfI8XlqY558o"
      },
      "execution_count": null,
      "outputs": []
    },
    {
      "cell_type": "markdown",
      "source": [
        "## Dividindo o dataset em dados de treinamento e dados de teste\n",
        "### _Aqui, teremos que os dados de teste será 10% do dataset._"
      ],
      "metadata": {
        "id": "tTTFXkMo7RSX"
      }
    },
    {
      "cell_type": "code",
      "source": [
        "X_train, X_test, y_train, y_test = train_test_split(X_scaled, y, stratify = y, test_size = 0.10, random_state = 42)"
      ],
      "metadata": {
        "id": "nInuhe1i7gAP"
      },
      "execution_count": null,
      "outputs": []
    },
    {
      "cell_type": "markdown",
      "source": [
        "## Criando a Random Forest para classificação\n",
        "### _Utilizaremos um número de árvores igual a cem para a floresta, pesos para as classes por conta do desbalanceamento e mudança do critério de divisão._"
      ],
      "metadata": {
        "id": "YCXoXdgm73uv"
      }
    },
    {
      "cell_type": "code",
      "source": [
        "# Criando a instância do classificador\n",
        "classifier = RandomForestClassifier(criterion = 'entropy', n_estimators = 100)\n",
        "\n",
        "# Criando a instância do classificador com peso para os riscos (por conta do desbalanceamento das classes)\n",
        "#peso = {0: 0.15, 1: 0.85}\n",
        "#classifier = RandomForestClassifier(criterion = 'entropy', n_estimators = 100, class_weight = peso)\n",
        "\n",
        "# Treinando o classificador\n",
        "classifier.fit(X_train, y_train)"
      ],
      "metadata": {
        "colab": {
          "base_uri": "https://localhost:8080/"
        },
        "id": "R9duo2pr8DNg",
        "outputId": "c82ac5b7-cb19-4b0b-e661-8d2921ce749a"
      },
      "execution_count": null,
      "outputs": [
        {
          "output_type": "execute_result",
          "data": {
            "text/plain": [
              "RandomForestClassifier(criterion='entropy')"
            ]
          },
          "metadata": {},
          "execution_count": 10
        }
      ]
    },
    {
      "cell_type": "code",
      "source": [
        "# Balanceamento utilizando SMOTE\n",
        "# A SMOTE (técnica de sobreamostragem minoritária sintética) é uma técnica estatística para aumentar \n",
        "# o número de casos em seu conjunto de um modo equilibrado. O componente funciona gerando novas \n",
        "# instâncias de casos minoritários existentes que você fornece como entrada. Essa implementação \n",
        "#de SMOTE não muda o número de casos majoritários.\n",
        "sm = SMOTE(k_neighbors = 85, random_state = 42)\n",
        "X_up, y_up = sm.fit_resample(X.astype('float'), y)\n",
        "\n",
        "# Separação entre dados de treino e teste\n",
        "X_train_up, X_test_up, y_train_up, y_test_up = train_test_split(X_up, y_up, test_size = 0.10, random_state = 42)\n",
        "\n",
        "# Informações do antes e depois da sobreamostragem\n",
        "print('\\nAntes do OverSampling, quantidade de labels \"1\": {} instâncias.'.format(sum(y==1)))\n",
        "print('Antes do OverSampling, quantidade de labels \"0\": {} instâncias.\\n'.format(sum(y==0)))\n",
        "\n",
        "print('\\nDepois do OverSampling, quantidade de labels \"1\": {} instâncias.'.format(sum(y_up==1)))\n",
        "print('Depois do OverSampling, quantidade de labels \"0\": {} instâncias.\\n\\n'.format(sum(y_up==0)))\n",
        "\n",
        "# # Criando a instância do classificador com ajuste SMOTE (por conta do desbalanceamento das classes)\n",
        "classifier_up = RandomForestClassifier(criterion = 'entropy', n_estimators = 100)\n",
        "classifier_up = classifier_up.fit(X_train_up, y_train_up)\n",
        "y_pred_up = classifier_up.predict(X_test_up)"
      ],
      "metadata": {
        "colab": {
          "base_uri": "https://localhost:8080/"
        },
        "id": "6puo6gtgf6Na",
        "outputId": "f1bcb6ed-8054-491c-a05c-5493f4895311"
      },
      "execution_count": null,
      "outputs": [
        {
          "output_type": "stream",
          "name": "stdout",
          "text": [
            "\n",
            "Antes do OverSampling, quantidade de labels \"1\": 86 instâncias.\n",
            "Antes do OverSampling, quantidade de labels \"0\": 826 instâncias.\n",
            "\n",
            "\n",
            "Depois do OverSampling, quantidade de labels \"1\": 826 instâncias.\n",
            "Depois do OverSampling, quantidade de labels \"0\": 826 instâncias.\n",
            "\n",
            "\n"
          ]
        }
      ]
    },
    {
      "cell_type": "markdown",
      "source": [
        "## Realizando a previsão usando o classificador treinando nos dados de teste"
      ],
      "metadata": {
        "id": "vzkMgppj8nia"
      }
    },
    {
      "cell_type": "code",
      "source": [
        "y_pred = classifier.predict(X_test)\n",
        "y_pred_up = classifier_up.predict(X_test_up) # SMOTE"
      ],
      "metadata": {
        "id": "mbyx-qXB8whu"
      },
      "execution_count": null,
      "outputs": []
    },
    {
      "cell_type": "markdown",
      "source": [
        "## Verificando a precisão usando valores reais e previstos a partir dos dados do teste."
      ],
      "metadata": {
        "id": "mdVvLFsz82MW"
      }
    },
    {
      "cell_type": "code",
      "source": [
        "# Calculando a acurácia do classificador\n",
        "accuracy = accuracy_score(y_test, y_pred)\n",
        "print(f\"Acurácia: {accuracy} ou, aproximadamente, {round((accuracy * 100), 2)}%\")\n",
        "\n",
        "accuracy_up = accuracy_score(y_test_up, y_pred_up)\n",
        "print(f\"Acurácia SMOTE: {accuracy} ou, aproximadamente, {round((accuracy * 100), 2)}%\")"
      ],
      "metadata": {
        "id": "PWg_sDe9851P",
        "colab": {
          "base_uri": "https://localhost:8080/"
        },
        "outputId": "3dcfc8c5-97a6-4062-b46c-926b576af47e"
      },
      "execution_count": null,
      "outputs": [
        {
          "output_type": "stream",
          "name": "stdout",
          "text": [
            "Acurácia: 1.0 ou, aproximadamente, 100.0%\n",
            "Acurácia SMOTE: 1.0 ou, aproximadamente, 100.0%\n"
          ]
        }
      ]
    },
    {
      "cell_type": "markdown",
      "source": [
        "## Visualizando as características mais relevantes levadas em conta pelo classificador."
      ],
      "metadata": {
        "id": "vjv6r9Ll-uo3"
      }
    },
    {
      "cell_type": "code",
      "source": [
        "feature_importances_data = pd.DataFrame(\n",
        "                                        {\n",
        "                                            'Coluna': list(X.columns),\n",
        "                                            'Importância': classifier.feature_importances_\n",
        "                                        }).sort_values('Importância', ascending = False)\n",
        "\n",
        "print(feature_importances_data, '\\n\\n')\n",
        "\n",
        "# Gráfico das importâncias\n",
        "sns.barplot(x = feature_importances_data.Coluna, y = feature_importances_data.Importância)\n",
        "plt.ylabel(\"Importâncias das colunas\")\n",
        "plt.xlabel(\"Colunas\")\n",
        "plt.title('Visualizando as importâncias das colunas')\n",
        "plt.xticks(rotation = 45, horizontalalignment = \"right\", fontweight = \"light\", fontsize = \"x-large\")\n",
        "plt.show()"
      ],
      "metadata": {
        "id": "4JfCAVFC-43X",
        "colab": {
          "base_uri": "https://localhost:8080/",
          "height": 601
        },
        "outputId": "82a3df9e-6630-462f-a214-c416765cda83"
      },
      "execution_count": null,
      "outputs": [
        {
          "output_type": "stream",
          "name": "stdout",
          "text": [
            "           Coluna  Importância\n",
            "1       pas(mmHg)     0.563702\n",
            "3  glicose(mg/dL)     0.205576\n",
            "2       pad(mmHg)     0.205072\n",
            "0           idade     0.025650 \n",
            "\n",
            "\n"
          ]
        },
        {
          "output_type": "display_data",
          "data": {
            "text/plain": [
              "<Figure size 720x432 with 1 Axes>"
            ],
            "image/png": "[encoded data removed]"
          },
          "metadata": {
            "needs_background": "light"
          }
        }
      ]
    },
    {
      "cell_type": "markdown",
      "source": [
        "## Visualizando as características mais relevantes levadas em conta pelo classificador (SMOTE)."
      ],
      "metadata": {
        "id": "bi6jw1NrhQt5"
      }
    },
    {
      "cell_type": "code",
      "source": [
        "feature_importances_data_up = pd.DataFrame(\n",
        "                                        {\n",
        "                                            'Coluna': list(X.columns),\n",
        "                                            'Importância': classifier_up.feature_importances_\n",
        "                                        }).sort_values('Importância', ascending = False)\n",
        "\n",
        "print(feature_importances_data_up, '\\n\\n')\n",
        "\n",
        "# Gráfico das importâncias\n",
        "sns.barplot(x = feature_importances_data_up.Coluna, y = feature_importances_data_up.Importância)\n",
        "plt.ylabel(\"Importâncias das colunas\")\n",
        "plt.xlabel(\"Colunas\")\n",
        "plt.title('Visualizando as importâncias das colunas')\n",
        "plt.xticks(rotation = 45, horizontalalignment = \"right\", fontweight = \"light\", fontsize = \"x-large\")\n",
        "plt.show()"
      ],
      "metadata": {
        "id": "Oo-M68H9hTLC",
        "colab": {
          "base_uri": "https://localhost:8080/",
          "height": 601
        },
        "outputId": "c277a987-d4fa-4b98-93e5-4621c7e31c79"
      },
      "execution_count": null,
      "outputs": [
        {
          "output_type": "stream",
          "name": "stdout",
          "text": [
            "           Coluna  Importância\n",
            "1       pas(mmHg)     0.613872\n",
            "2       pad(mmHg)     0.240257\n",
            "3  glicose(mg/dL)     0.136314\n",
            "0           idade     0.009557 \n",
            "\n",
            "\n"
          ]
        },
        {
          "output_type": "display_data",
          "data": {
            "text/plain": [
              "<Figure size 720x432 with 1 Axes>"
            ],
            "image/png": "[encoded data removed]"
          },
          "metadata": {
            "needs_background": "light"
          }
        }
      ]
    },
    {
      "cell_type": "markdown",
      "source": [
        "## Exportando o modelo criado"
      ],
      "metadata": {
        "id": "kW__tvZ2rxin"
      }
    },
    {
      "cell_type": "code",
      "source": [
        "# Salvando o modelo treinado com dataset sobreamostrado com SMOTE\n",
        "joblib.dump(classifier_up, \"./random_forest_up.joblib\")\n",
        "\n",
        "\n",
        "# to load, no need to initialize the loaded_rf\n",
        "#loaded_rf = joblib.load(\"./random_forest.joblib\")"
      ],
      "metadata": {
        "colab": {
          "base_uri": "https://localhost:8080/"
        },
        "id": "yzqeDwgHr0Ol",
        "outputId": "b741e9b9-b489-449c-fa3e-dbc2fcd997e5"
      },
      "execution_count": null,
      "outputs": [
        {
          "output_type": "execute_result",
          "data": {
            "text/plain": [
              "['./random_forest_up.joblib']"
            ]
          },
          "metadata": {},
          "execution_count": 16
        }
      ]
    },
    {
      "cell_type": "markdown",
      "source": [
        "## Outros pontos que podem ser vistos com um dataset real (do PEC, por exemplo).\n",
        "1. Uso do PCA (Principal component analysis) para redução de dimensionalidade.\n",
        "    - Este algoritmo provê redução de dimensionalidade. Algumas vezes você tem\n",
        "      uma grande quantidade de características, provavelmente muito\n",
        "      correlacionadas entre si, e os modelos podem facilmente serem\n",
        "      sobreajustados em um grande conjunto de dados.\n",
        "\n",
        "2. Verificar a correlação entre as colunas."
      ],
      "metadata": {
        "id": "FaF2u2CInK_P"
      }
    }
  ]
}