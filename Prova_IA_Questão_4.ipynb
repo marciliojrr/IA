{
  "nbformat": 4,
  "nbformat_minor": 0,
  "metadata": {
    "colab": {
      "name": "Prova IA - Questão 4",
      "provenance": [],
      "collapsed_sections": [],
      "authorship_tag": "ABX9TyNuzGYq4JG9tTOMPpwrDcMZ",
      "include_colab_link": true
    },
    "kernelspec": {
      "name": "python3",
      "display_name": "Python 3"
    }
  },
  "cells": [
    {
      "cell_type": "markdown",
      "metadata": {
        "id": "view-in-github",
        "colab_type": "text"
      },
      "source": [
        "<a href=\"https://colab.research.google.com/github/marciliojrr/IA/blob/main/Prova_IA_Quest%C3%A3o_4.ipynb\" target=\"_parent\"><img src=\"https://colab.research.google.com/assets/colab-badge.svg\" alt=\"Open In Colab\"/></a>"
      ]
    },
    {
      "cell_type": "markdown",
      "metadata": {
        "id": "Ucg0uJzQkcYg"
      },
      "source": [
        "# Questão 4\n",
        "---\n",
        "*Em um Jupyter Notebook (link do colab ou arquivo), utilize o método K vizinhos mais próximos no problema supervisionado escolhido na Questão 2 ou 3 e:*\n",
        "\n",
        "*a) Aplique e explique os processos de pré-processamento necessários para execução do método K-NN.*\n",
        "\n",
        "*b) Escolha 5 valores de K e mostre os resultados (escolha uma métrica)?*\n",
        "\n",
        "*c) Escolha 2 métricas de similaridade (diferentes distâncias ou outras métricas) para definir o(s) vizinho(s) mais próximos.*"
      ]
    },
    {
      "cell_type": "markdown",
      "metadata": {
        "id": "BiofI-d4kyIW"
      },
      "source": [
        "### *Importando bibliotecas*\n",
        "---"
      ]
    },
    {
      "cell_type": "code",
      "metadata": {
        "id": "zSDV42SGWc4D"
      },
      "source": [
        "import numpy as np\n",
        "import pandas as pd\n",
        "import matplotlib.pyplot as plt"
      ],
      "execution_count": 434,
      "outputs": []
    },
    {
      "cell_type": "markdown",
      "metadata": {
        "id": "QbKBNADyk7Rl"
      },
      "source": [
        "### *Importando o conjunto de dados*\n",
        "---"
      ]
    },
    {
      "cell_type": "code",
      "metadata": {
        "id": "1Ih0EDQkW-2e"
      },
      "source": [
        "df = pd.read_csv('Breast_Cancer_Prediction.csv', low_memory=False)"
      ],
      "execution_count": 435,
      "outputs": []
    },
    {
      "cell_type": "markdown",
      "metadata": {
        "id": "44FeVwfMr1AJ"
      },
      "source": [
        "*Observando a aparência do dataset.*"
      ]
    },
    {
      "cell_type": "code",
      "metadata": {
        "id": "18YlZV9yqovr",
        "outputId": "7d398440-a77f-425e-80e8-6817ad323417",
        "colab": {
          "base_uri": "https://localhost:8080/",
          "height": 231
        }
      },
      "source": [
        "df.head()"
      ],
      "execution_count": 436,
      "outputs": [
        {
          "output_type": "execute_result",
          "data": {
            "text/html": [
              "<div>\n",
              "<style scoped>\n",
              "    .dataframe tbody tr th:only-of-type {\n",
              "        vertical-align: middle;\n",
              "    }\n",
              "\n",
              "    .dataframe tbody tr th {\n",
              "        vertical-align: top;\n",
              "    }\n",
              "\n",
              "    .dataframe thead th {\n",
              "        text-align: right;\n",
              "    }\n",
              "</style>\n",
              "<table border=\"1\" class=\"dataframe\">\n",
              "  <thead>\n",
              "    <tr style=\"text-align: right;\">\n",
              "      <th></th>\n",
              "      <th>Sample code number</th>\n",
              "      <th>Clump Thickness</th>\n",
              "      <th>Uniformity of Cell Size</th>\n",
              "      <th>Uniformity of Cell Shape</th>\n",
              "      <th>Marginal Adhesion</th>\n",
              "      <th>Single Epithelial Cell Size</th>\n",
              "      <th>Bare Nuclei</th>\n",
              "      <th>Bland Chromatin</th>\n",
              "      <th>Normal Nucleoli</th>\n",
              "      <th>Mitoses</th>\n",
              "      <th>Class</th>\n",
              "    </tr>\n",
              "  </thead>\n",
              "  <tbody>\n",
              "    <tr>\n",
              "      <th>0</th>\n",
              "      <td>1000025</td>\n",
              "      <td>5</td>\n",
              "      <td>1</td>\n",
              "      <td>1</td>\n",
              "      <td>1</td>\n",
              "      <td>2</td>\n",
              "      <td>1</td>\n",
              "      <td>3</td>\n",
              "      <td>1</td>\n",
              "      <td>1</td>\n",
              "      <td>2</td>\n",
              "    </tr>\n",
              "    <tr>\n",
              "      <th>1</th>\n",
              "      <td>1002945</td>\n",
              "      <td>5</td>\n",
              "      <td>4</td>\n",
              "      <td>4</td>\n",
              "      <td>5</td>\n",
              "      <td>7</td>\n",
              "      <td>10</td>\n",
              "      <td>3</td>\n",
              "      <td>2</td>\n",
              "      <td>1</td>\n",
              "      <td>2</td>\n",
              "    </tr>\n",
              "    <tr>\n",
              "      <th>2</th>\n",
              "      <td>1015425</td>\n",
              "      <td>3</td>\n",
              "      <td>1</td>\n",
              "      <td>1</td>\n",
              "      <td>1</td>\n",
              "      <td>2</td>\n",
              "      <td>2</td>\n",
              "      <td>3</td>\n",
              "      <td>1</td>\n",
              "      <td>1</td>\n",
              "      <td>2</td>\n",
              "    </tr>\n",
              "    <tr>\n",
              "      <th>3</th>\n",
              "      <td>1016277</td>\n",
              "      <td>6</td>\n",
              "      <td>8</td>\n",
              "      <td>8</td>\n",
              "      <td>1</td>\n",
              "      <td>3</td>\n",
              "      <td>4</td>\n",
              "      <td>3</td>\n",
              "      <td>7</td>\n",
              "      <td>1</td>\n",
              "      <td>2</td>\n",
              "    </tr>\n",
              "    <tr>\n",
              "      <th>4</th>\n",
              "      <td>1017023</td>\n",
              "      <td>4</td>\n",
              "      <td>1</td>\n",
              "      <td>1</td>\n",
              "      <td>3</td>\n",
              "      <td>2</td>\n",
              "      <td>1</td>\n",
              "      <td>3</td>\n",
              "      <td>1</td>\n",
              "      <td>1</td>\n",
              "      <td>2</td>\n",
              "    </tr>\n",
              "  </tbody>\n",
              "</table>\n",
              "</div>"
            ],
            "text/plain": [
              "   Sample code number  Clump Thickness  ...  Mitoses  Class\n",
              "0             1000025                5  ...        1      2\n",
              "1             1002945                5  ...        1      2\n",
              "2             1015425                3  ...        1      2\n",
              "3             1016277                6  ...        1      2\n",
              "4             1017023                4  ...        1      2\n",
              "\n",
              "[5 rows x 11 columns]"
            ]
          },
          "metadata": {
            "tags": []
          },
          "execution_count": 436
        }
      ]
    },
    {
      "cell_type": "markdown",
      "metadata": {
        "id": "CqGOFKgLlOo9"
      },
      "source": [
        "*Removendo colunas que não serão usadas como parâmetro, excluindo possiveis linhas com valores nulos e observando a nova aparência do dataset.*"
      ]
    },
    {
      "cell_type": "code",
      "metadata": {
        "id": "ImBPqgSUlAvF",
        "outputId": "6fd15839-129d-4616-f5e4-3998eb8ca757",
        "colab": {
          "base_uri": "https://localhost:8080/",
          "height": 231
        }
      },
      "source": [
        "df.dropna()\n",
        "df = df.drop(['Sample code number'], axis=1)\n",
        "df.head()"
      ],
      "execution_count": 437,
      "outputs": [
        {
          "output_type": "execute_result",
          "data": {
            "text/html": [
              "<div>\n",
              "<style scoped>\n",
              "    .dataframe tbody tr th:only-of-type {\n",
              "        vertical-align: middle;\n",
              "    }\n",
              "\n",
              "    .dataframe tbody tr th {\n",
              "        vertical-align: top;\n",
              "    }\n",
              "\n",
              "    .dataframe thead th {\n",
              "        text-align: right;\n",
              "    }\n",
              "</style>\n",
              "<table border=\"1\" class=\"dataframe\">\n",
              "  <thead>\n",
              "    <tr style=\"text-align: right;\">\n",
              "      <th></th>\n",
              "      <th>Clump Thickness</th>\n",
              "      <th>Uniformity of Cell Size</th>\n",
              "      <th>Uniformity of Cell Shape</th>\n",
              "      <th>Marginal Adhesion</th>\n",
              "      <th>Single Epithelial Cell Size</th>\n",
              "      <th>Bare Nuclei</th>\n",
              "      <th>Bland Chromatin</th>\n",
              "      <th>Normal Nucleoli</th>\n",
              "      <th>Mitoses</th>\n",
              "      <th>Class</th>\n",
              "    </tr>\n",
              "  </thead>\n",
              "  <tbody>\n",
              "    <tr>\n",
              "      <th>0</th>\n",
              "      <td>5</td>\n",
              "      <td>1</td>\n",
              "      <td>1</td>\n",
              "      <td>1</td>\n",
              "      <td>2</td>\n",
              "      <td>1</td>\n",
              "      <td>3</td>\n",
              "      <td>1</td>\n",
              "      <td>1</td>\n",
              "      <td>2</td>\n",
              "    </tr>\n",
              "    <tr>\n",
              "      <th>1</th>\n",
              "      <td>5</td>\n",
              "      <td>4</td>\n",
              "      <td>4</td>\n",
              "      <td>5</td>\n",
              "      <td>7</td>\n",
              "      <td>10</td>\n",
              "      <td>3</td>\n",
              "      <td>2</td>\n",
              "      <td>1</td>\n",
              "      <td>2</td>\n",
              "    </tr>\n",
              "    <tr>\n",
              "      <th>2</th>\n",
              "      <td>3</td>\n",
              "      <td>1</td>\n",
              "      <td>1</td>\n",
              "      <td>1</td>\n",
              "      <td>2</td>\n",
              "      <td>2</td>\n",
              "      <td>3</td>\n",
              "      <td>1</td>\n",
              "      <td>1</td>\n",
              "      <td>2</td>\n",
              "    </tr>\n",
              "    <tr>\n",
              "      <th>3</th>\n",
              "      <td>6</td>\n",
              "      <td>8</td>\n",
              "      <td>8</td>\n",
              "      <td>1</td>\n",
              "      <td>3</td>\n",
              "      <td>4</td>\n",
              "      <td>3</td>\n",
              "      <td>7</td>\n",
              "      <td>1</td>\n",
              "      <td>2</td>\n",
              "    </tr>\n",
              "    <tr>\n",
              "      <th>4</th>\n",
              "      <td>4</td>\n",
              "      <td>1</td>\n",
              "      <td>1</td>\n",
              "      <td>3</td>\n",
              "      <td>2</td>\n",
              "      <td>1</td>\n",
              "      <td>3</td>\n",
              "      <td>1</td>\n",
              "      <td>1</td>\n",
              "      <td>2</td>\n",
              "    </tr>\n",
              "  </tbody>\n",
              "</table>\n",
              "</div>"
            ],
            "text/plain": [
              "   Clump Thickness  Uniformity of Cell Size  ...  Mitoses  Class\n",
              "0                5                        1  ...        1      2\n",
              "1                5                        4  ...        1      2\n",
              "2                3                        1  ...        1      2\n",
              "3                6                        8  ...        1      2\n",
              "4                4                        1  ...        1      2\n",
              "\n",
              "[5 rows x 10 columns]"
            ]
          },
          "metadata": {
            "tags": []
          },
          "execution_count": 437
        }
      ]
    },
    {
      "cell_type": "markdown",
      "metadata": {
        "id": "T4FF08lyly0N"
      },
      "source": [
        "### *Pré-processamento*\n",
        "---\n",
        "*A variável X contém as colunas de 1 à 9  do conjunto de dados (ou seja, atributos), enquanto y contém a coluna 10 com os rótulos.\n",
        "Lembrando que:* \n",
        "\n",
        "*Class: (2 para benigno, 4 para maligno)*"
      ]
    },
    {
      "cell_type": "code",
      "metadata": {
        "id": "1G8NxNu4l3zN"
      },
      "source": [
        "X = df.iloc[:, :-1].values\n",
        "y = df.iloc[:,9].values"
      ],
      "execution_count": 438,
      "outputs": []
    },
    {
      "cell_type": "markdown",
      "metadata": {
        "id": "pdsPVH_smy7H"
      },
      "source": [
        "### *Divisão Treino e Teste*\n",
        "---\n",
        "*A divisão será da forma: 80% dos dados para treino e 20% para dados de teste.*"
      ]
    },
    {
      "cell_type": "code",
      "metadata": {
        "id": "nTdDzGABm4L7"
      },
      "source": [
        "from sklearn.model_selection import train_test_split\n",
        "X_train, X_test, y_train, y_test = train_test_split(X, y, test_size=0.20)"
      ],
      "execution_count": 439,
      "outputs": []
    },
    {
      "cell_type": "markdown",
      "metadata": {
        "id": "qJYsIJlFnxBF"
      },
      "source": [
        "### *Normalizando os valores para melhorar a avaliação*\n",
        "---"
      ]
    },
    {
      "cell_type": "code",
      "metadata": {
        "id": "RABGXhrdn8ek"
      },
      "source": [
        "from sklearn.preprocessing import StandardScaler\n",
        "scaler = StandardScaler()\n",
        "scaler.fit(X_train)\n",
        "\n",
        "X_train = scaler.transform(X_train)\n",
        "X_test = scaler.transform(X_test)"
      ],
      "execution_count": 440,
      "outputs": []
    },
    {
      "cell_type": "markdown",
      "metadata": {
        "id": "4cGfMBhOotl1"
      },
      "source": [
        "### *Treinamento e previsões*\n",
        "---"
      ]
    },
    {
      "cell_type": "code",
      "metadata": {
        "id": "fe_WTYl0ow7j",
        "outputId": "3cf6cd24-3996-4450-c39e-1e903968902b",
        "colab": {
          "base_uri": "https://localhost:8080/"
        }
      },
      "source": [
        "from sklearn.neighbors import KNeighborsClassifier\n",
        "classifier = KNeighborsClassifier(n_neighbors=9, metric='euclidean')\n",
        "classifier.fit(X_train, y_train)"
      ],
      "execution_count": 441,
      "outputs": [
        {
          "output_type": "execute_result",
          "data": {
            "text/plain": [
              "KNeighborsClassifier(algorithm='auto', leaf_size=30, metric='euclidean',\n",
              "                     metric_params=None, n_jobs=None, n_neighbors=9, p=2,\n",
              "                     weights='uniform')"
            ]
          },
          "metadata": {
            "tags": []
          },
          "execution_count": 441
        }
      ]
    },
    {
      "cell_type": "markdown",
      "metadata": {
        "id": "_BTh8BTOpUKq"
      },
      "source": [
        "### *Realizando a previsão*\n",
        "---\n",
        "*Class: (2 para benigno, 4 para maligno)*"
      ]
    },
    {
      "cell_type": "code",
      "metadata": {
        "id": "uExRFsSIpZIy",
        "outputId": "01269268-f3e7-48e5-9557-8a5bca16ab84",
        "colab": {
          "base_uri": "https://localhost:8080/"
        }
      },
      "source": [
        "y_pred = classifier.predict(X_test)\n",
        "print('Predição\\n', y_pred)\n",
        "print('Teste\\n', y_test)"
      ],
      "execution_count": 442,
      "outputs": [
        {
          "output_type": "stream",
          "text": [
            "Predição\n",
            " [2 2 2 2 4 2 2 4 4 4 4 4 2 4 4 2 2 2 2 2 4 2 2 2 2 4 2 2 2 2 2 4 4 4 4 2 2\n",
            " 4 2 2 4 2 4 2 2 2 2 2 2 4 2 2 2 4 4 2 2 2 2 4 2 2 2 2 2 2 4 2 2 2 2 2 2 2\n",
            " 2 2 2 4 2 4 2 2 2 2 2 2 2 4 2 2 4 2 2 2 4 2 2 4 2 2 4 4 2 2 2 2 2 4 4 2 4\n",
            " 2 4 2 2 4 2 2 4 2 2 2 2 2 4 2 2 2 2 4 2 2 2 2 4 4 2]\n",
            "Teste\n",
            " [2 2 2 2 4 2 2 4 4 4 4 4 2 4 4 2 2 2 2 2 4 2 2 2 2 4 2 2 2 2 2 4 4 4 4 2 2\n",
            " 4 2 2 4 2 4 2 2 2 4 2 2 4 2 2 2 4 4 2 2 2 2 4 2 2 2 2 2 2 4 2 2 2 2 2 2 2\n",
            " 2 2 2 4 2 4 2 2 2 2 2 2 2 4 2 2 4 2 2 2 4 2 2 4 2 2 4 4 2 2 2 2 2 4 2 2 4\n",
            " 2 4 2 4 4 2 2 4 2 2 2 2 2 4 2 2 2 2 4 2 4 2 2 4 4 2]\n"
          ],
          "name": "stdout"
        }
      ]
    },
    {
      "cell_type": "markdown",
      "metadata": {
        "id": "anjloLcfpn6d"
      },
      "source": [
        "### *Avaliando o algoritmo*\n",
        "---\n",
        "*   **Acurácia (accuracy)**: Diz quanto o modelo acertou das previsões possíveis.\n",
        "  \n",
        "  * *Acurácia = Predições corretas / Todas as predições*\n",
        "\n",
        "*   **Recall**: Qual proporção de positivos foi identificados corretamente?\n",
        "\n",
        " * *Recall = Verdadeiros positivos / Verdadeiros Positivos + Falsos Negativos*\n",
        "\n",
        "\n",
        "*   **Precisão (precision)**: Qual a proporção de identificações positivas foi realmente correta?\n",
        "\n",
        "    * *Precisão = Verdadeiros positivos / Verdadeiros Positivos + Falsos Positivos*\n",
        "\n",
        "* **F-Score**: Mostra o balanço entre a precisão e o recall de nosso modelo.\n",
        "    * *F-score = 2 * [(precisão * recall) / (precisão + recall)]*"
      ]
    },
    {
      "cell_type": "code",
      "metadata": {
        "id": "YQ_VXG2PprzD",
        "outputId": "dc46db67-8bb4-4338-8f10-6b4b93e8b809",
        "colab": {
          "base_uri": "https://localhost:8080/"
        }
      },
      "source": [
        "from sklearn.metrics import classification_report, confusion_matrix\n",
        "print('Matriz de Confusão:\\n',confusion_matrix(y_test, y_pred))\n",
        "print(classification_report(y_test, y_pred))"
      ],
      "execution_count": 443,
      "outputs": [
        {
          "output_type": "stream",
          "text": [
            "Matriz de Confusão:\n",
            " [[94  1]\n",
            " [ 3 39]]\n",
            "              precision    recall  f1-score   support\n",
            "\n",
            "           2       0.97      0.99      0.98        95\n",
            "           4       0.97      0.93      0.95        42\n",
            "\n",
            "    accuracy                           0.97       137\n",
            "   macro avg       0.97      0.96      0.97       137\n",
            "weighted avg       0.97      0.97      0.97       137\n",
            "\n"
          ],
          "name": "stdout"
        }
      ]
    },
    {
      "cell_type": "markdown",
      "metadata": {
        "id": "cEWi8_lM7ys8"
      },
      "source": [
        "### *Comparando a taxa de erro com valor de K*\n",
        "---\n"
      ]
    },
    {
      "cell_type": "code",
      "metadata": {
        "id": "1EamPufA75UX",
        "outputId": "c4aa16fc-856c-4bbf-8d2e-6a5b1c5b0cd1",
        "colab": {
          "base_uri": "https://localhost:8080/",
          "height": 422
        }
      },
      "source": [
        "# Calculando erro médio dos valores previstos do conjunto de teste\n",
        "error = []\n",
        "\n",
        "for i in range(1, 10, 2):\n",
        "  knn = KNeighborsClassifier(n_neighbors=i)\n",
        "  knn.fit(X_train, y_train)\n",
        "  pred_i = knn.predict(X_test)\n",
        "  error.append(np.mean(pred_i != y_test))\n",
        "\n",
        "# Plotando o gráfico dos valores em *error* em relação aos valores de K\n",
        "plt.figure(figsize=(12,6))\n",
        "plt.plot(range(1, 10, 2), error, color='red', linestyle='dashed', marker='o', markerfacecolor='blue', markersize=10)\n",
        "plt.title('Taxa de Erro x Valor de K')\n",
        "plt.xlabel('valor de K')\n",
        "plt.ylabel('Erro médio')"
      ],
      "execution_count": 444,
      "outputs": [
        {
          "output_type": "execute_result",
          "data": {
            "text/plain": [
              "Text(0, 0.5, 'Erro médio')"
            ]
          },
          "metadata": {
            "tags": []
          },
          "execution_count": 444
        },
        {
          "output_type": "display_data",
          "data": {
            "image/png": "[encoded data removed]",
            "text/plain": [
              "<Figure size 864x432 with 1 Axes>"
            ]
          },
          "metadata": {
            "tags": [],
            "needs_background": "light"
          }
        }
      ]
    }
  ]
}